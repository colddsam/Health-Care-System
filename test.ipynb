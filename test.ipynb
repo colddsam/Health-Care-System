{
 "cells": [
  {
   "cell_type": "code",
   "execution_count": 1,
   "metadata": {},
   "outputs": [],
   "source": [
    "import requests\n",
    "from bs4 import BeautifulSoup"
   ]
  },
  {
   "cell_type": "code",
   "execution_count": 7,
   "metadata": {},
   "outputs": [],
   "source": [
    "nmc_url = \"https://www.nmc.org.in/information-desk/indian-medical-register/\"\n",
    "doctor_name = \"Bandyopadhyay Arun Kumar\"\n",
    "search_payload = {\n",
    "    \"doctorName\": doctor_name\n",
    "}"
   ]
  },
  {
   "cell_type": "code",
   "execution_count": 3,
   "metadata": {},
   "outputs": [],
   "source": [
    "session = requests.Session()\n",
    "response = session.get(nmc_url)"
   ]
  },
  {
   "cell_type": "code",
   "execution_count": 4,
   "metadata": {},
   "outputs": [],
   "source": [
    "soup=BeautifulSoup(response.text,'html.parser')"
   ]
  },
  {
   "cell_type": "code",
   "execution_count": 14,
   "metadata": {},
   "outputs": [],
   "source": [
    "search_form =soup.find('form')"
   ]
  },
  {
   "cell_type": "code",
   "execution_count": 17,
   "metadata": {},
   "outputs": [],
   "source": [
    "search_action=search_form.get('action', nmc_url)"
   ]
  },
  {
   "cell_type": "code",
   "execution_count": 21,
   "metadata": {},
   "outputs": [
    {
     "name": "stdout",
     "output_type": "stream",
     "text": [
      "_csrf\n",
      "None\n"
     ]
    }
   ],
   "source": [
    "if not search_action.startswith('http'):\n",
    "        search_action = nmc_url.rstrip('/') + '/' + search_action.lstrip('/')\n",
    "    \n",
    "    # Define the search payload\n",
    "search_payload = {\n",
    "    # Example name, replace with actual details\n",
    "    'doctorName': \"Bandyopadhyay Arun Kumar\",\n",
    "    # Add other required form fields here based on actual form structure\n",
    "}\n",
    "# Include all form inputs in the payload\n",
    "for input_tag in search_form.find_all('input'):\n",
    "    input_name = input_tag.get('name')\n",
    "    print(input_tag)\n",
    "#     input_value = input_tag.get('value', '')\n",
    "#     if input_name and input_name not in search_payload:\n",
    "#         search_payload[input_name] = input_value\n",
    "# # Submit the form\n",
    "# search_response = session.post(search_action, data=search_payload)\n",
    "# search_results = BeautifulSoup(search_response.text, 'html.parser')\n",
    "# # Parse and display the results\n",
    "# # This part depends on the structure of the search results page\n",
    "# for result in search_results.find_all('div', class_='doctor-info'):\n",
    "#     name = result.find('h3').text\n",
    "#     registration_number = result.find('p', class_='reg-no').text\n",
    "#     qualification = result.find('p', class_='qualification').text\n",
    "#     print(f\"Name: {name}\")\n",
    "#     print(f\"Registration Number: {registration_number}\")\n",
    "#     print(f\"Qualification: {qualification}\")"
   ]
  },
  {
   "cell_type": "code",
   "execution_count": 19,
   "metadata": {},
   "outputs": [
    {
     "data": {
      "text/plain": [
       "'https://www.nmc.org.in/information-desk/indian-medical-register/'"
      ]
     },
     "execution_count": 19,
     "metadata": {},
     "output_type": "execute_result"
    }
   ],
   "source": [
    "search_action"
   ]
  }
 ],
 "metadata": {
  "kernelspec": {
   "display_name": "venv",
   "language": "python",
   "name": "python3"
  },
  "language_info": {
   "codemirror_mode": {
    "name": "ipython",
    "version": 3
   },
   "file_extension": ".py",
   "mimetype": "text/x-python",
   "name": "python",
   "nbconvert_exporter": "python",
   "pygments_lexer": "ipython3",
   "version": "3.10.11"
  }
 },
 "nbformat": 4,
 "nbformat_minor": 2
}
